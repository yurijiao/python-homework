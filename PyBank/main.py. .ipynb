{
 "cells": [
  {
   "cell_type": "code",
   "execution_count": 2,
   "metadata": {},
   "outputs": [],
   "source": [
    "# Import the pathlib and csv library \n",
    "from pathlib import Path \n",
    "import csv"
   ]
  },
  {
   "cell_type": "code",
   "execution_count": 3,
   "metadata": {},
   "outputs": [
    {
     "data": {
      "text/plain": [
       "WindowsPath('C:/Users/ruyijiao/Desktop/python-homework/PyBank')"
      ]
     },
     "execution_count": 3,
     "metadata": {},
     "output_type": "execute_result"
    }
   ],
   "source": [
    "# find current working directory\n",
    "Path.cwd()"
   ]
  },
  {
   "cell_type": "code",
   "execution_count": 4,
   "metadata": {},
   "outputs": [],
   "source": [
    "# set the file path \n",
    "csvpath = Path ('../../CU-NYC-FIN-PT-08-2019-U-C/02-Homework/02-Python/Instructions/PyBank/Resources/budget_data.csv')"
   ]
  },
  {
   "cell_type": "code",
   "execution_count": 5,
   "metadata": {},
   "outputs": [],
   "source": [
    "# initialize variable to hold the monthly pnl list and date list  \n",
    "mpnl = []\n",
    "date = []\n",
    "\n"
   ]
  },
  {
   "cell_type": "code",
   "execution_count": 6,
   "metadata": {},
   "outputs": [],
   "source": [
    "# initialize line number variable \n",
    "line_num = 0"
   ]
  },
  {
   "cell_type": "code",
   "execution_count": 7,
   "metadata": {
    "scrolled": true
   },
   "outputs": [
    {
     "name": "stdout",
     "output_type": "stream",
     "text": [
      "<class '_csv.reader'>\n",
      "['Date', 'Profit/Losses']\n",
      "86\n"
     ]
    }
   ],
   "source": [
    "# open the input path as a file obje$ict \n",
    "with open (csvpath, 'r') as csvfile: \n",
    "    \n",
    "    # pass in the csv file to the csv.reader() function \n",
    "    csvreader = csv.reader(csvfile, delimiter = \",\")\n",
    "    \n",
    "    # print the datatype of the csvreader \n",
    "    print (type (csvreader))\n",
    "    \n",
    "    # read the header\n",
    "    header = next (csvreader)\n",
    "    \n",
    "    # print the header \n",
    "    print (f\"{header}\")\n",
    "    \n",
    "    # read each row of data after the header with a for loop\n",
    "    for row in csvreader:\n",
    "        \n",
    "        # set month variable to the first column and monthly pnl variable to the second column of each row\n",
    "        month = row[0]\n",
    "        pnl = int(row[1])\n",
    "        \n",
    "        # append the row with month value to the list of date and the row with monthly pnl value to the list of monthly pnl\n",
    "        date.append (month)\n",
    "        mpnl.append(pnl)\n",
    "\n",
    "#THERE SHOULD BE 86 DATA POINTS IN mpnl\n",
    "print(len(mpnl))\n"
   ]
  },
  {
   "cell_type": "code",
   "execution_count": 8,
   "metadata": {},
   "outputs": [],
   "source": [
    "#initialize metric variables \n",
    "\n",
    "total_pnl = 0 \n",
    "count_month = 0"
   ]
  },
  {
   "cell_type": "code",
   "execution_count": 9,
   "metadata": {},
   "outputs": [
    {
     "name": "stdout",
     "output_type": "stream",
     "text": [
      "38382578\n",
      "86\n"
     ]
    }
   ],
   "source": [
    "# calculate the cumulative total pnl and the number of months with for loop \n",
    "\n",
    "for x in mpnl:\n",
    "\n",
    "    # sum the total and count variables \n",
    "    total_pnl += x\n",
    "    count_month += 1\n",
    "    \n",
    "\n",
    "# print metrics.      \n",
    "print(total_pnl)\n",
    "print (count_month)\n",
    "\n"
   ]
  },
  {
   "cell_type": "code",
   "execution_count": 10,
   "metadata": {},
   "outputs": [
    {
     "name": "stdout",
     "output_type": "stream",
     "text": [
      "446309.05\n"
     ]
    }
   ],
   "source": [
    "# calculate the average and round\n",
    "avg_change = round((total_pnl / count_month),2)\n",
    "\n",
    "# print metric \n",
    "print (avg_change)"
   ]
  },
  {
   "cell_type": "code",
   "execution_count": 11,
   "metadata": {},
   "outputs": [
    {
     "name": "stdout",
     "output_type": "stream",
     "text": [
      "{'Jan-2010': 867884, 'Feb-2010': 984655, 'Mar-2010': 322013, 'Apr-2010': -69417, 'May-2010': 310503, 'Jun-2010': 522857, 'Jul-2010': 1033096, 'Aug-2010': 604885, 'Sep-2010': -216386, 'Oct-2010': 477532, 'Nov-2010': 893810, 'Dec-2010': -80353, 'Jan-2011': 779806, 'Feb-2011': -335203, 'Mar-2011': 697845, 'Apr-2011': 793163, 'May-2011': 485070, 'Jun-2011': 584122, 'Jul-2011': 62729, 'Aug-2011': 668179, 'Sep-2011': 899906, 'Oct-2011': 834719, 'Nov-2011': 132003, 'Dec-2011': 309978, 'Jan-2012': -755566, 'Feb-2012': 1170593, 'Mar-2012': 252788, 'Apr-2012': 1151518, 'May-2012': 817256, 'Jun-2012': 570757, 'Jul-2012': 506702, 'Aug-2012': -1022534, 'Sep-2012': 475062, 'Oct-2012': 779976, 'Nov-2012': 144175, 'Dec-2012': 542494, 'Jan-2013': 359333, 'Feb-2013': 321469, 'Mar-2013': 67780, 'Apr-2013': 471435, 'May-2013': 565603, 'Jun-2013': 872480, 'Jul-2013': 789480, 'Aug-2013': 999942, 'Sep-2013': -1196225, 'Oct-2013': 268997, 'Nov-2013': -687986, 'Dec-2013': 1150461, 'Jan-2014': 682458, 'Feb-2014': 617856, 'Mar-2014': 824098, 'Apr-2014': 581943, 'May-2014': 132864, 'Jun-2014': 448062, 'Jul-2014': 689161, 'Aug-2014': 800701, 'Sep-2014': 1166643, 'Oct-2014': 947333, 'Nov-2014': 578668, 'Dec-2014': 988505, 'Jan-2015': 1139715, 'Feb-2015': 1029471, 'Mar-2015': 687533, 'Apr-2015': -524626, 'May-2015': 158620, 'Jun-2015': 87795, 'Jul-2015': 423389, 'Aug-2015': 840723, 'Sep-2015': 568529, 'Oct-2015': 332067, 'Nov-2015': 989499, 'Dec-2015': 778237, 'Jan-2016': 650000, 'Feb-2016': -1100387, 'Mar-2016': -174946, 'Apr-2016': 757143, 'May-2016': 445709, 'Jun-2016': 712961, 'Jul-2016': -1163797, 'Aug-2016': 569899, 'Sep-2016': 768450, 'Oct-2016': 102685, 'Nov-2016': 795914, 'Dec-2016': 60988, 'Jan-2017': 138230, 'Feb-2017': 671099}\n"
     ]
    }
   ],
   "source": [
    "# initialize a dictionary for date and monthly pnl\n",
    "data = dict(zip (date, mpnl))\n",
    "\n",
    "print (data)"
   ]
  },
  {
   "cell_type": "code",
   "execution_count": 12,
   "metadata": {},
   "outputs": [
    {
     "name": "stdout",
     "output_type": "stream",
     "text": [
      "Feb-2012 1170593\n",
      "Sep-2013 -1196225\n"
     ]
    }
   ],
   "source": [
    "# set two variables for the dates assocaited with the highest profitable days and unprofitable days \n",
    "# date_max = (data.keys()[data.values().index(max_mpnl)])\n",
    "date_max = 0\n",
    "max_val = 0\n",
    "for key, value in data.items():\n",
    "    if value > max_val:\n",
    "        date_max = key\n",
    "        max_val = value\n",
    "        \n",
    "print(date_max, max_val)\n",
    "\n",
    "date_min = 0\n",
    "min_val = 0\n",
    "for key, value in data.items():\n",
    "    if value < min_val:\n",
    "        date_min = key\n",
    "        min_val = value\n",
    "\n",
    "print(date_min, min_val)\n",
    "\n",
    "max_pnl = str(max_val)\n",
    "min_pnl = str(min_val)"
   ]
  },
  {
   "cell_type": "code",
   "execution_count": 13,
   "metadata": {},
   "outputs": [],
   "source": [
    "# set the output file path \n",
    "Path.cwd()\n",
    "output_path = Path (\"output.txt\")"
   ]
  },
  {
   "cell_type": "code",
   "execution_count": 21,
   "metadata": {},
   "outputs": [],
   "source": [
    "# open the output path as a file object\n",
    "with open(output_path, 'w') as file: \n",
    "    \n",
    "    # write the contents. HOW TO START A NEW LINE?\n",
    "    file.write(\"Financial Analysis\\n\")\n",
    "    file.write(f\"Total Months: {count_month}\\n\")\n",
    "    file.write(f\"Total: $ {total_pnl}\\n\",)\n",
    "    file.write (f\"Greatest Increase in Profits: {date_max} , {max_pnl}\\n\")\n",
    "    file.write (f\"Greatest Decrease in Profits:   {date_min},  {min_pnl}\")\n",
    "    "
   ]
  },
  {
   "cell_type": "code",
   "execution_count": null,
   "metadata": {},
   "outputs": [],
   "source": []
  },
  {
   "cell_type": "markdown",
   "metadata": {},
   "source": []
  }
 ],
 "metadata": {
  "kernelspec": {
   "display_name": "Python 3",
   "language": "python",
   "name": "python3"
  },
  "language_info": {
   "codemirror_mode": {
    "name": "ipython",
    "version": 3
   },
   "file_extension": ".py",
   "mimetype": "text/x-python",
   "name": "python",
   "nbconvert_exporter": "python",
   "pygments_lexer": "ipython3",
   "version": "3.7.4"
  }
 },
 "nbformat": 4,
 "nbformat_minor": 2
}
