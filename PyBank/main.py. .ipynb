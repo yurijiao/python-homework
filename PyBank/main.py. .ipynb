{
 "cells": [
  {
   "cell_type": "code",
   "execution_count": 131,
   "metadata": {},
   "outputs": [],
   "source": [
    "# Import the pathlib and csv library \n",
    "from pathlib import Path \n",
    "import csv"
   ]
  },
  {
   "cell_type": "code",
   "execution_count": 132,
   "metadata": {},
   "outputs": [
    {
     "data": {
      "text/plain": [
       "WindowsPath('C:/Users/ruyijiao/Desktop/python-homework/PyBank')"
      ]
     },
     "execution_count": 132,
     "metadata": {},
     "output_type": "execute_result"
    }
   ],
   "source": [
    "# find current working directory\n",
    "Path.cwd()"
   ]
  },
  {
   "cell_type": "code",
   "execution_count": 133,
   "metadata": {},
   "outputs": [],
   "source": [
    "# set the file path \n",
    "csvpath = Path ('../../CU-NYC-FIN-PT-08-2019-U-C/02-Homework/02-Python/Instructions/PyBank/Resources/budget_data.csv')"
   ]
  },
  {
   "cell_type": "code",
   "execution_count": 134,
   "metadata": {},
   "outputs": [],
   "source": [
    "# initialize variable to hold the monthly pnl list and date list  \n",
    "mpnl = []\n",
    "date = []\n",
    "\n"
   ]
  },
  {
   "cell_type": "code",
   "execution_count": 135,
   "metadata": {},
   "outputs": [],
   "source": [
    "# initialize line number variable \n",
    "line_num = 0"
   ]
  },
  {
   "cell_type": "code",
   "execution_count": 136,
   "metadata": {
    "scrolled": true
   },
   "outputs": [
    {
     "name": "stdout",
     "output_type": "stream",
     "text": [
      "<class '_csv.reader'>\n",
      "['Date', 'Profit/Losses']\n",
      "86\n"
     ]
    }
   ],
   "source": [
    "# open the input path as a file obje$ict \n",
    "with open (csvpath, 'r') as csvfile: \n",
    "    \n",
    "    # pass in the csv file to the csv.reader() function \n",
    "    csvreader = csv.reader(csvfile, delimiter = \",\")\n",
    "    \n",
    "    # print the datatype of the csvreader \n",
    "    print (type (csvreader))\n",
    "    \n",
    "    # read the header\n",
    "    header = next (csvreader)\n",
    "    \n",
    "    # print the header \n",
    "    print (f\"{header}\")\n",
    "    \n",
    "    # read each row of data after the header with a for loop\n",
    "    for row in csvreader:\n",
    "        \n",
    "        # set month variable to the first column and monthly pnl variable to the second column of each row\n",
    "        month = row[0]\n",
    "        pnl = int(row[1])\n",
    "        \n",
    "        # append therwo month value to the list of date and the row monthly pnl value to the list of monthly pnl\n",
    "        date.append (month)\n",
    "        mpnl.append(pnl)\n",
    "\n",
    "#THERE SHOULD BE 86 DATA POINTS IN mpnl\n",
    "print(len(mpnl))\n"
   ]
  },
  {
   "cell_type": "code",
   "execution_count": 137,
   "metadata": {},
   "outputs": [],
   "source": [
    "#initialize metric variables \n",
    "\n",
    "min_mpnl = 0\n",
    "max_mpnl = 0  \n",
    "total_pnl = 0 \n",
    "count_month = 0"
   ]
  },
  {
   "cell_type": "code",
   "execution_count": 138,
   "metadata": {},
   "outputs": [
    {
     "name": "stdout",
     "output_type": "stream",
     "text": [
      "38382578\n",
      "86\n",
      "0\n",
      "1170593\n"
     ]
    }
   ],
   "source": [
    "# calculate the max, min, mean of the list of monthly pnl with for loop \n",
    "for x in mpnl:\n",
    "\n",
    "    # sum the total and count variables \n",
    "    total_pnl += x\n",
    "    count_month += 1\n",
    "    \n",
    "    # logic to determin min and max \n",
    "    if x == 0: \n",
    "        min_mpnl = x \n",
    "    elif x > max_mpnl: \n",
    "        max_mpnl = x\n",
    "    elif x < min_mpnl: \n",
    "        min_mpnl: x\n",
    "\n",
    "# print metrics. TO CHECK: TOTAL = 38382578, COUNT = 86     \n",
    "print(total_pnl)\n",
    "print (count_month)\n",
    "print (min_mpnl)\n",
    "print (max_mpnl)\n"
   ]
  },
  {
   "cell_type": "code",
   "execution_count": 139,
   "metadata": {},
   "outputs": [
    {
     "name": "stdout",
     "output_type": "stream",
     "text": [
      "446309.05\n"
     ]
    }
   ],
   "source": [
    "# calculate the average and round\n",
    "avg_change = round((total_pnl / count_month),2)\n",
    "\n",
    "# print metric \n",
    "print (avg_change)"
   ]
  },
  {
   "cell_type": "code",
   "execution_count": 140,
   "metadata": {},
   "outputs": [
    {
     "name": "stdout",
     "output_type": "stream",
     "text": [
      "{'Jan-2010': 867884, 'Feb-2010': 984655, 'Mar-2010': 322013, 'Apr-2010': -69417, 'May-2010': 310503, 'Jun-2010': 522857, 'Jul-2010': 1033096, 'Aug-2010': 604885, 'Sep-2010': -216386, 'Oct-2010': 477532, 'Nov-2010': 893810, 'Dec-2010': -80353, 'Jan-2011': 779806, 'Feb-2011': -335203, 'Mar-2011': 697845, 'Apr-2011': 793163, 'May-2011': 485070, 'Jun-2011': 584122, 'Jul-2011': 62729, 'Aug-2011': 668179, 'Sep-2011': 899906, 'Oct-2011': 834719, 'Nov-2011': 132003, 'Dec-2011': 309978, 'Jan-2012': -755566, 'Feb-2012': 1170593, 'Mar-2012': 252788, 'Apr-2012': 1151518, 'May-2012': 817256, 'Jun-2012': 570757, 'Jul-2012': 506702, 'Aug-2012': -1022534, 'Sep-2012': 475062, 'Oct-2012': 779976, 'Nov-2012': 144175, 'Dec-2012': 542494, 'Jan-2013': 359333, 'Feb-2013': 321469, 'Mar-2013': 67780, 'Apr-2013': 471435, 'May-2013': 565603, 'Jun-2013': 872480, 'Jul-2013': 789480, 'Aug-2013': 999942, 'Sep-2013': -1196225, 'Oct-2013': 268997, 'Nov-2013': -687986, 'Dec-2013': 1150461, 'Jan-2014': 682458, 'Feb-2014': 617856, 'Mar-2014': 824098, 'Apr-2014': 581943, 'May-2014': 132864, 'Jun-2014': 448062, 'Jul-2014': 689161, 'Aug-2014': 800701, 'Sep-2014': 1166643, 'Oct-2014': 947333, 'Nov-2014': 578668, 'Dec-2014': 988505, 'Jan-2015': 1139715, 'Feb-2015': 1029471, 'Mar-2015': 687533, 'Apr-2015': -524626, 'May-2015': 158620, 'Jun-2015': 87795, 'Jul-2015': 423389, 'Aug-2015': 840723, 'Sep-2015': 568529, 'Oct-2015': 332067, 'Nov-2015': 989499, 'Dec-2015': 778237, 'Jan-2016': 650000, 'Feb-2016': -1100387, 'Mar-2016': -174946, 'Apr-2016': 757143, 'May-2016': 445709, 'Jun-2016': 712961, 'Jul-2016': -1163797, 'Aug-2016': 569899, 'Sep-2016': 768450, 'Oct-2016': 102685, 'Nov-2016': 795914, 'Dec-2016': 60988, 'Jan-2017': 138230, 'Feb-2017': 671099}\n"
     ]
    }
   ],
   "source": [
    "# initialize a dictionary for date and monthly pnl\n",
    "data = dict(zip (date, mpnl))\n",
    "\n",
    "print (data)"
   ]
  },
  {
   "cell_type": "code",
   "execution_count": 156,
   "metadata": {},
   "outputs": [
    {
     "ename": "AttributeError",
     "evalue": "'dict' object has no attribute 'key'",
     "output_type": "error",
     "traceback": [
      "\u001b[1;31m---------------------------------------------------------------------------\u001b[0m",
      "\u001b[1;31mAttributeError\u001b[0m                            Traceback (most recent call last)",
      "\u001b[1;32m<ipython-input-156-ecb285ea81ef>\u001b[0m in \u001b[0;36m<module>\u001b[1;34m\u001b[0m\n\u001b[0;32m      1\u001b[0m \u001b[1;31m# print highest profitable days and unprofitable days\u001b[0m\u001b[1;33m\u001b[0m\u001b[1;33m\u001b[0m\u001b[1;33m\u001b[0m\u001b[0m\n\u001b[1;32m----> 2\u001b[1;33m \u001b[0mprint\u001b[0m \u001b[1;33m(\u001b[0m\u001b[0mdata\u001b[0m\u001b[1;33m.\u001b[0m\u001b[0mkey\u001b[0m\u001b[1;33m(\u001b[0m\u001b[1;33m)\u001b[0m\u001b[1;33m[\u001b[0m\u001b[0mdata\u001b[0m\u001b[1;33m.\u001b[0m\u001b[0mvalues\u001b[0m\u001b[1;33m(\u001b[0m\u001b[1;33m)\u001b[0m\u001b[1;33m.\u001b[0m\u001b[0mindex\u001b[0m\u001b[1;33m(\u001b[0m\u001b[0mmax_mpnl\u001b[0m\u001b[1;33m)\u001b[0m\u001b[1;33m]\u001b[0m\u001b[1;33m)\u001b[0m\u001b[1;33m\u001b[0m\u001b[1;33m\u001b[0m\u001b[0m\n\u001b[0m",
      "\u001b[1;31mAttributeError\u001b[0m: 'dict' object has no attribute 'key'"
     ]
    }
   ],
   "source": [
    "# ?????set two variables for the dates assocaited with the highest profitable days and unprofitable days \n",
    "date_max = (data.key()[data.values().index(max_mpnl)])\n",
    "date_min = "
   ]
  },
  {
   "cell_type": "code",
   "execution_count": 141,
   "metadata": {},
   "outputs": [],
   "source": [
    "# set the output file path \n",
    "Path.cwd()\n",
    "output_path = Path (\"output.txt\")"
   ]
  },
  {
   "cell_type": "code",
   "execution_count": 157,
   "metadata": {},
   "outputs": [],
   "source": [
    "# open the output path as a file object\n",
    "with open(output_path, 'w') as file: \n",
    "    \n",
    "    # write the contents. HOW TO START A NEW LINE?\n",
    "    file.write (\"Financial Analysis\")\n",
    "    file.write(f\"Total Months: + {count_month}\")\n",
    "    file.write (f\"Total: $ + {total_pnl}\")\n",
    "    file.write (f\"Greatest Increase in Profits: \")"
   ]
  },
  {
   "cell_type": "code",
   "execution_count": null,
   "metadata": {},
   "outputs": [],
   "source": []
  },
  {
   "cell_type": "code",
   "execution_count": null,
   "metadata": {},
   "outputs": [],
   "source": []
  }
 ],
 "metadata": {
  "kernelspec": {
   "display_name": "Python 3",
   "language": "python",
   "name": "python3"
  },
  "language_info": {
   "codemirror_mode": {
    "name": "ipython",
    "version": 3
   },
   "file_extension": ".py",
   "mimetype": "text/x-python",
   "name": "python",
   "nbconvert_exporter": "python",
   "pygments_lexer": "ipython3",
   "version": "3.7.3"
  }
 },
 "nbformat": 4,
 "nbformat_minor": 2
}
